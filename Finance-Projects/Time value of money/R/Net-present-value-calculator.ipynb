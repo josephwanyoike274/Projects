{
 "cells": [
  {
   "cell_type": "code",
   "execution_count": 56,
   "id": "68118417",
   "metadata": {},
   "outputs": [
    {
     "name": "stdout",
     "output_type": "stream",
     "text": [
      "Enter the number of cashflows: 7\n"
     ]
    }
   ],
   "source": [
    "num_cashflows <- as.integer(readline(\"Enter the number of cashflows: \"))\n",
    "cashflows <- vector(\"numeric\", num_cashflows)\n"
   ]
  },
  {
   "cell_type": "code",
   "execution_count": 57,
   "id": "3bd944de",
   "metadata": {},
   "outputs": [
    {
     "name": "stdout",
     "output_type": "stream",
     "text": [
      "Enter cashflow: 1: -100\n",
      "Enter cashflow: 2: -30\n",
      "Enter cashflow: 3: 10\n",
      "Enter cashflow: 4: 40\n",
      "Enter cashflow: 5: 50\n",
      "Enter cashflow: 6: 45\n",
      "Enter cashflow: 7: 20\n",
      "Cashflows Entered:  -100 -30 10 40 50 45 20 \n"
     ]
    }
   ],
   "source": [
    "for (i in 1:num_cashflows) {\n",
    "    cashflow <- as.numeric(readline(paste(\"Enter cashflow: \", i, \": \", sep = \"\")))\n",
    "    cashflows[i] <- cashflow\n",
    "}\n",
    "cat(\"Cashflows Entered: \", cashflows, \"\\n\")\n"
   ]
  },
  {
   "cell_type": "code",
   "execution_count": 58,
   "id": "747d79d1",
   "metadata": {},
   "outputs": [
    {
     "name": "stdout",
     "output_type": "stream",
     "text": [
      "Enter the discount rate in rage 0 to 1: 0.035\n"
     ]
    }
   ],
   "source": [
    "discount_rate <- as.integer(readline(\"Enter the discount rate in rage 0 to 1: \"))"
   ]
  },
  {
   "cell_type": "code",
   "execution_count": 61,
   "id": "99666841",
   "metadata": {},
   "outputs": [],
   "source": [
    "npv <- function(discount_rate, cashflows){\n",
    "    total <- 0\n",
    "    for(i in 1:num_cashflows){\n",
    "        total <- (total + (cashflows[i] / (1+discount_rate)^i))\n",
    "    }\n",
    "    return (total)\n",
    "}   \n",
    "\n"
   ]
  },
  {
   "cell_type": "code",
   "execution_count": 62,
   "id": "abf50c1f",
   "metadata": {},
   "outputs": [
    {
     "name": "stdout",
     "output_type": "stream",
     "text": [
      "Net present value:  35 \n"
     ]
    }
   ],
   "source": [
    "npv_value <- npv(discount_rate, cashflows)\n",
    "cat(\"Net present value: \", npv_value, \"\\n\")"
   ]
  },
  {
   "cell_type": "code",
   "execution_count": null,
   "id": "ba9db40e",
   "metadata": {},
   "outputs": [],
   "source": []
  },
  {
   "cell_type": "code",
   "execution_count": null,
   "id": "e52c6fdd",
   "metadata": {},
   "outputs": [],
   "source": []
  }
 ],
 "metadata": {
  "kernelspec": {
   "display_name": "R",
   "language": "R",
   "name": "ir"
  },
  "language_info": {
   "codemirror_mode": "r",
   "file_extension": ".r",
   "mimetype": "text/x-r-source",
   "name": "R",
   "pygments_lexer": "r",
   "version": "3.6.1"
  }
 },
 "nbformat": 4,
 "nbformat_minor": 5
}
