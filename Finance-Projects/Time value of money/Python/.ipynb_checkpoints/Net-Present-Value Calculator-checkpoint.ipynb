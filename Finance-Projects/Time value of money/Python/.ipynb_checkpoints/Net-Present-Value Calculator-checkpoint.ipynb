{
 "cells": [
  {
   "cell_type": "code",
   "execution_count": 8,
   "id": "bc7b91d3",
   "metadata": {},
   "outputs": [
    {
     "name": "stdout",
     "output_type": "stream",
     "text": [
      "Enter the number of Cashflows: 7\n",
      "Enter cashflow 1: -100\n",
      "Enter cashflow 2: -30\n",
      "Enter cashflow 3: 10\n",
      "Enter cashflow 4: 40\n",
      "Enter cashflow 5: 50\n",
      "Enter cashflow 6: 45\n",
      "Enter cashflow 7: 20\n",
      "Cashflows Entered:  [-100.0, -30.0, 10.0, 40.0, 50.0, 45.0, 20.0]\n"
     ]
    }
   ],
   "source": [
    "num_cashflows = int(input(\"Enter the number of Cashflows: \"))\n",
    "cashflows= []\n",
    "\n",
    "for i in range(num_cashflows):\n",
    "    cashflow = float(input(f\"Enter cashflow {i+1}: \"))\n",
    "    cashflows.append(cashflow)\n",
    "    \n",
    "print(\"Cashflows Entered: \", cashflows)\n",
    "\n",
    "#This part of the code prompts the user to first enter the number of cashflows they have.\n",
    "#and then they are prompted to enter those cashflows\n",
    "\n",
    "#Net present value is the difference between the present value of your cash inflows \n",
    "#and the present value of your cash outflows over a given period."
   ]
  },
  {
   "cell_type": "code",
   "execution_count": 14,
   "id": "6324d68e",
   "metadata": {},
   "outputs": [
    {
     "name": "stdout",
     "output_type": "stream",
     "text": [
      "Whats the rate? NB Provide it in the range 0 to 1 0.035\n"
     ]
    }
   ],
   "source": [
    "rate = float(input(\"Whats the rate? NB Provide it in the range 0 to 1 \"))\n",
    "#period =int(input(\"Whats the number of the period\"))"
   ]
  },
  {
   "cell_type": "code",
   "execution_count": 15,
   "id": "57ae77d5",
   "metadata": {},
   "outputs": [
    {
     "data": {
      "text/plain": [
       "14.158224763725372"
      ]
     },
     "execution_count": 15,
     "metadata": {},
     "output_type": "execute_result"
    }
   ],
   "source": [
    "def npv(rate, cashflows):\n",
    "    total = 0.0\n",
    "    for i in range(0, num_cashflows):\n",
    "        total += cashflows[i] / (1 + rate)**i\n",
    "    return total\n",
    "npv(rate, cashflows)\n",
    "        \n",
    "    "
   ]
  },
  {
   "cell_type": "code",
   "execution_count": null,
   "id": "46eb55fc",
   "metadata": {},
   "outputs": [],
   "source": []
  }
 ],
 "metadata": {
  "kernelspec": {
   "display_name": "Python 3 (ipykernel)",
   "language": "python",
   "name": "python3"
  },
  "language_info": {
   "codemirror_mode": {
    "name": "ipython",
    "version": 3
   },
   "file_extension": ".py",
   "mimetype": "text/x-python",
   "name": "python",
   "nbconvert_exporter": "python",
   "pygments_lexer": "ipython3",
   "version": "3.9.13"
  }
 },
 "nbformat": 4,
 "nbformat_minor": 5
}
