{
 "cells": [
  {
   "cell_type": "code",
   "execution_count": 48,
   "id": "fc06aea6",
   "metadata": {},
   "outputs": [],
   "source": [
    "import torch\n",
    "import torch.nn as nn\n",
    "import torch.optim as optim\n",
    "from torch.utils.data import DataLoader, TensorDataset\n",
    "from sklearn.model_selection import train_test_split\n",
    "import pandas as pd\n",
    "import numpy as np"
   ]
  },
  {
   "cell_type": "code",
   "execution_count": 42,
   "id": "60fdca03",
   "metadata": {},
   "outputs": [],
   "source": [
    "#load data"
   ]
  },
  {
   "cell_type": "code",
   "execution_count": 73,
   "id": "c7f9fe1b",
   "metadata": {},
   "outputs": [],
   "source": [
    "data = pd.read_csv(\"Diabetes-Classification.csv\")"
   ]
  },
  {
   "cell_type": "code",
   "execution_count": 75,
   "id": "4604cfc8",
   "metadata": {},
   "outputs": [
    {
     "data": {
      "text/plain": [
       "(10000, 10)"
      ]
     },
     "execution_count": 75,
     "metadata": {},
     "output_type": "execute_result"
    }
   ],
   "source": [
    "data.shape"
   ]
  },
  {
   "cell_type": "code",
   "execution_count": 61,
   "id": "c6c6ff16",
   "metadata": {},
   "outputs": [],
   "source": [
    "# Extract features and labels from the data\n",
    "#X = data[[\"Pregnancies\", \"PlasmaGlucose\", \"DiastolicBloodPressure\", \"TricepsThickness\", \"SerumInsulin\", \"BMI\", \"DiabetesPedigree\", \"Age\"]].values\n",
    "#y = data[[\"Diabetic\"]].values\n",
    "X = data.drop(['Diabetic',\"PatientID\"], axis=1).values\n",
    "y = data['Diabetic'].values\n",
    "\n",
    "#X_tensor = torch.tensor(X)\n",
    "#y_tensor = torch.tensor(y)"
   ]
  },
  {
   "cell_type": "code",
   "execution_count": 54,
   "id": "39e41201",
   "metadata": {},
   "outputs": [],
   "source": [
    "#Split the data into training and testing sets\n",
    "X_train, X_test, y_train, y_test = train_test_split(X, y, test_size=0.3, random_state=42)"
   ]
  },
  {
   "cell_type": "code",
   "execution_count": 77,
   "id": "fdd6abe1",
   "metadata": {},
   "outputs": [
    {
     "name": "stderr",
     "output_type": "stream",
     "text": [
      "C:\\Users\\Joseph\\AppData\\Local\\Temp\\ipykernel_1144\\811102824.py:2: UserWarning: To copy construct from a tensor, it is recommended to use sourceTensor.clone().detach() or sourceTensor.clone().detach().requires_grad_(True), rather than torch.tensor(sourceTensor).\n",
      "  X_train = torch.tensor(X_train, dtype=torch.float32)\n",
      "C:\\Users\\Joseph\\AppData\\Local\\Temp\\ipykernel_1144\\811102824.py:3: UserWarning: To copy construct from a tensor, it is recommended to use sourceTensor.clone().detach() or sourceTensor.clone().detach().requires_grad_(True), rather than torch.tensor(sourceTensor).\n",
      "  X_test = torch.tensor(X_test, dtype=torch.float32)\n",
      "C:\\Users\\Joseph\\AppData\\Local\\Temp\\ipykernel_1144\\811102824.py:4: UserWarning: To copy construct from a tensor, it is recommended to use sourceTensor.clone().detach() or sourceTensor.clone().detach().requires_grad_(True), rather than torch.tensor(sourceTensor).\n",
      "  y_train =torch.tensor(y_train, dtype=torch.float32).unsqueeze(1)\n",
      "C:\\Users\\Joseph\\AppData\\Local\\Temp\\ipykernel_1144\\811102824.py:5: UserWarning: To copy construct from a tensor, it is recommended to use sourceTensor.clone().detach() or sourceTensor.clone().detach().requires_grad_(True), rather than torch.tensor(sourceTensor).\n",
      "  y_test = torch.tensor(y_test, dtype=torch.float32).unsqueeze(1)\n"
     ]
    }
   ],
   "source": [
    "#Convert the data to PyTorch tensors\n",
    "X_train = torch.tensor(X_train, dtype=torch.float32)\n",
    "X_test = torch.tensor(X_test, dtype=torch.float32)\n",
    "y_train =torch.tensor(y_train, dtype=torch.float32).unsqueeze(1)\n",
    "y_test = torch.tensor(y_test, dtype=torch.float32).unsqueeze(1)"
   ]
  },
  {
   "cell_type": "code",
   "execution_count": 62,
   "id": "dc53c619",
   "metadata": {},
   "outputs": [],
   "source": [
    "# Create a TensorDataset\n",
    "#dataset = TensorDataset(X_tensor, y_tensor)\n",
    "\n"
   ]
  },
  {
   "cell_type": "code",
   "execution_count": 78,
   "id": "2939381a",
   "metadata": {},
   "outputs": [],
   "source": [
    "# Define the logistic regression model\n",
    "class LogisticRegression(nn.Module):\n",
    "    def __init__(self, input_dim):\n",
    "        super(LogisticRegression, self).__init__()\n",
    "        self.linear = nn.Linear(input_dim, 1)\n",
    "        self.sigmoid = nn.Sigmoid()\n",
    "\n",
    "    def forward(self, x):\n",
    "        out = self.linear(x)\n",
    "        out = self.sigmoid(out)\n",
    "        return out"
   ]
  },
  {
   "cell_type": "code",
   "execution_count": 79,
   "id": "277ae389",
   "metadata": {},
   "outputs": [],
   "source": [
    "#Instantiate the model\n",
    "input_dim = X_train.shape[1]\n",
    "model = LogisticRegression(input_dim)"
   ]
  },
  {
   "cell_type": "code",
   "execution_count": 80,
   "id": "1ea491ba",
   "metadata": {},
   "outputs": [],
   "source": [
    "# Define the loss function and optimizer\n",
    "criterion = nn.BCELoss()\n",
    "optimizer = optim.SGD(model.parameters(), lr=0.01)"
   ]
  },
  {
   "cell_type": "code",
   "execution_count": 81,
   "id": "11337e36",
   "metadata": {},
   "outputs": [
    {
     "name": "stdout",
     "output_type": "stream",
     "text": [
      "Epoch [10/100], Loss: 65.9857\n",
      "Epoch [20/100], Loss: 65.9857\n",
      "Epoch [30/100], Loss: 65.9857\n",
      "Epoch [40/100], Loss: 65.9857\n",
      "Epoch [50/100], Loss: 65.9857\n",
      "Epoch [60/100], Loss: 65.9857\n",
      "Epoch [70/100], Loss: 65.9857\n",
      "Epoch [80/100], Loss: 65.9857\n",
      "Epoch [90/100], Loss: 65.9857\n",
      "Epoch [100/100], Loss: 65.9857\n"
     ]
    }
   ],
   "source": [
    "# Train the model\n",
    "num_epochs = 100\n",
    "for epoch in range(num_epochs):\n",
    "    # Forward pass\n",
    "    outputs = model(X_train)\n",
    "    loss = criterion(outputs, y_train)\n",
    "\n",
    "    # Backward and optimize\n",
    "    optimizer.zero_grad()\n",
    "    loss.backward()\n",
    "    optimizer.step()\n",
    "\n",
    "    # Print the loss at every 10 epochs\n",
    "    if (epoch+1) % 10 == 0:\n",
    "        print(f'Epoch [{epoch+1}/{num_epochs}], Loss: {loss.item():.4f}')"
   ]
  },
  {
   "cell_type": "code",
   "execution_count": 85,
   "id": "d2861190",
   "metadata": {},
   "outputs": [
    {
     "name": "stdout",
     "output_type": "stream",
     "text": [
      "Test Accuracy: 0.3210\n"
     ]
    }
   ],
   "source": [
    "# Evaluate the model\n",
    "model.eval()\n",
    "with torch.no_grad():\n",
    "    y_pred = model(X_test)\n",
    "    y_pred = (y_pred >= 0.5).float()\n",
    "    accuracy = (y_pred == y_test).sum().item() / y_test.size(0)\n",
    "    print(f'Test Accuracy: {accuracy:.4f}')"
   ]
  },
  {
   "cell_type": "code",
   "execution_count": 86,
   "id": "760282ab",
   "metadata": {},
   "outputs": [
    {
     "name": "stdout",
     "output_type": "stream",
     "text": [
      "Predicted Probability: 1.0\n",
      "Predicted Label: 1\n"
     ]
    }
   ],
   "source": [
    "\n",
    "\n",
    "# Prepare the input data for prediction (example with a single sample)\n",
    "new_data = torch.tensor([[3, 100, 78, 25, 304, 42.604536, 0.079019, 30]], dtype=torch.float32)\n",
    "\n",
    "# Set the model to evaluation mode\n",
    "model.eval()\n",
    "\n",
    "#  Use the trained model to make predictions\n",
    "with torch.no_grad():\n",
    "    outputs = model(new_data)\n",
    "    predicted_probabilities = outputs.squeeze().item()\n",
    "\n",
    "# Apply a threshold to convert probabilities to binary class labels\n",
    "predicted_label = 1 if predicted_probabilities >= 0.5 else 0\n",
    "\n",
    "print(\"Predicted Probability:\", predicted_probabilities)\n",
    "print(\"Predicted Label:\", predicted_label)\n"
   ]
  },
  {
   "cell_type": "code",
   "execution_count": null,
   "id": "c5e0f44c",
   "metadata": {},
   "outputs": [],
   "source": []
  }
 ],
 "metadata": {
  "kernelspec": {
   "display_name": "Python 3 (ipykernel)",
   "language": "python",
   "name": "python3"
  },
  "language_info": {
   "codemirror_mode": {
    "name": "ipython",
    "version": 3
   },
   "file_extension": ".py",
   "mimetype": "text/x-python",
   "name": "python",
   "nbconvert_exporter": "python",
   "pygments_lexer": "ipython3",
   "version": "3.9.13"
  }
 },
 "nbformat": 4,
 "nbformat_minor": 5
}
