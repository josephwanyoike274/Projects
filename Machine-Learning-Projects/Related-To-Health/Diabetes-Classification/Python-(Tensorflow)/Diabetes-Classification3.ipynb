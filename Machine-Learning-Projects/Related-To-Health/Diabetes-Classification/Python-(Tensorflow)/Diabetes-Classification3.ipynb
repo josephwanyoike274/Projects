{
 "cells": [
  {
   "cell_type": "code",
   "execution_count": 19,
   "id": "c0abb728",
   "metadata": {},
   "outputs": [],
   "source": [
    "import tensorflow as tf\n",
    "from tensorflow.keras.models import Sequential\n",
    "from tensorflow.keras.layers import Dense\n",
    "import pandas as pd\n",
    "from sklearn.preprocessing import StandardScaler\n",
    "from sklearn.model_selection import train_test_split"
   ]
  },
  {
   "cell_type": "code",
   "execution_count": 2,
   "id": "c320593e",
   "metadata": {},
   "outputs": [],
   "source": [
    "#load data"
   ]
  },
  {
   "cell_type": "code",
   "execution_count": 5,
   "id": "33278320",
   "metadata": {},
   "outputs": [],
   "source": [
    "data = pd.read_csv(\"Diabetes-Classification.csv\")"
   ]
  },
  {
   "cell_type": "code",
   "execution_count": 10,
   "id": "f994907b",
   "metadata": {},
   "outputs": [],
   "source": [
    "data = data.drop('PatientID', axis=1)"
   ]
  },
  {
   "cell_type": "code",
   "execution_count": 12,
   "id": "f17ac4be",
   "metadata": {},
   "outputs": [],
   "source": [
    "X = data.drop(\"Diabetic\", axis=1)\n",
    "y = data[[\"Diabetic\"]]"
   ]
  },
  {
   "cell_type": "code",
   "execution_count": 30,
   "id": "11b086d4",
   "metadata": {},
   "outputs": [],
   "source": [
    "X_train, X_test, y_train, y_test = train_test_split(X, y, test_size=0.3, random_state=42)"
   ]
  },
  {
   "cell_type": "code",
   "execution_count": 31,
   "id": "abbcf2b6",
   "metadata": {},
   "outputs": [],
   "source": [
    "# Define the model architecture\n",
    "model = Sequential()\n",
    "model.add(Dense(64, activation='relu', input_dim=8))  # Replace input_dim with the appropriate input dimension\n",
    "model.add(Dense(64, activation='relu'))\n",
    "model.add(Dense(1, activation='sigmoid'))  # Output layer with sigmoid activation for binary classification"
   ]
  },
  {
   "cell_type": "code",
   "execution_count": 32,
   "id": "ab888b8a",
   "metadata": {},
   "outputs": [],
   "source": [
    "# Compile the model\n",
    "model.compile(optimizer='adam', loss='binary_crossentropy', metrics=['accuracy'])\n"
   ]
  },
  {
   "cell_type": "code",
   "execution_count": 33,
   "id": "79b06c70",
   "metadata": {},
   "outputs": [
    {
     "name": "stdout",
     "output_type": "stream",
     "text": [
      "Epoch 1/10\n",
      "219/219 [==============================] - 3s 3ms/step - loss: 0.8521 - accuracy: 0.6847\n",
      "Epoch 2/10\n",
      "219/219 [==============================] - 1s 2ms/step - loss: 0.5827 - accuracy: 0.7326\n",
      "Epoch 3/10\n",
      "219/219 [==============================] - 1s 2ms/step - loss: 0.6379 - accuracy: 0.7300\n",
      "Epoch 4/10\n",
      "219/219 [==============================] - 1s 3ms/step - loss: 0.5651 - accuracy: 0.7466\n",
      "Epoch 5/10\n",
      "219/219 [==============================] - 1s 3ms/step - loss: 0.5352 - accuracy: 0.7537\n",
      "Epoch 6/10\n",
      "219/219 [==============================] - 1s 2ms/step - loss: 0.5364 - accuracy: 0.7597\n",
      "Epoch 7/10\n",
      "219/219 [==============================] - 1s 2ms/step - loss: 0.4817 - accuracy: 0.7781\n",
      "Epoch 8/10\n",
      "219/219 [==============================] - 1s 3ms/step - loss: 0.4868 - accuracy: 0.7766\n",
      "Epoch 9/10\n",
      "219/219 [==============================] - 1s 3ms/step - loss: 0.4568 - accuracy: 0.7849\n",
      "Epoch 10/10\n",
      "219/219 [==============================] - 1s 3ms/step - loss: 0.4661 - accuracy: 0.7857\n"
     ]
    },
    {
     "data": {
      "text/plain": [
       "<keras.callbacks.History at 0x6931f520d0>"
      ]
     },
     "execution_count": 33,
     "metadata": {},
     "output_type": "execute_result"
    }
   ],
   "source": [
    "# Train the model\n",
    "model.fit(X_train, y_train, epochs=10, batch_size=32)  # Replace x_train and y_train with your training data"
   ]
  },
  {
   "cell_type": "code",
   "execution_count": 35,
   "id": "fca050c8",
   "metadata": {},
   "outputs": [
    {
     "name": "stdout",
     "output_type": "stream",
     "text": [
      "94/94 [==============================] - 0s 2ms/step - loss: 0.4729 - accuracy: 0.7917\n"
     ]
    }
   ],
   "source": [
    "# Evaluate the model\n",
    "loss, accuracy = model.evaluate(X_test, y_test)  # Replace x_test and y_test with your test data"
   ]
  },
  {
   "cell_type": "code",
   "execution_count": 37,
   "id": "3eaa873c",
   "metadata": {},
   "outputs": [
    {
     "name": "stdout",
     "output_type": "stream",
     "text": [
      "94/94 [==============================] - 0s 2ms/step\n"
     ]
    }
   ],
   "source": [
    "# Make predictions\n",
    "predictions = model.predict(X_test)  # Replace x_test with your input data for predictions"
   ]
  },
  {
   "cell_type": "code",
   "execution_count": 38,
   "id": "1662997a",
   "metadata": {},
   "outputs": [
    {
     "data": {
      "text/plain": [
       "array([[0.01325732],\n",
       "       [0.56779253],\n",
       "       [0.05048509],\n",
       "       ...,\n",
       "       [0.02929384],\n",
       "       [0.00078195],\n",
       "       [0.0814268 ]], dtype=float32)"
      ]
     },
     "execution_count": 38,
     "metadata": {},
     "output_type": "execute_result"
    }
   ],
   "source": [
    "predictions"
   ]
  },
  {
   "cell_type": "code",
   "execution_count": null,
   "id": "f5137bf0",
   "metadata": {},
   "outputs": [],
   "source": []
  }
 ],
 "metadata": {
  "kernelspec": {
   "display_name": "Python 3 (ipykernel)",
   "language": "python",
   "name": "python3"
  },
  "language_info": {
   "codemirror_mode": {
    "name": "ipython",
    "version": 3
   },
   "file_extension": ".py",
   "mimetype": "text/x-python",
   "name": "python",
   "nbconvert_exporter": "python",
   "pygments_lexer": "ipython3",
   "version": "3.8.5"
  }
 },
 "nbformat": 4,
 "nbformat_minor": 5
}
