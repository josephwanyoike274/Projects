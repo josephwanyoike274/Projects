{
 "cells": [
  {
   "cell_type": "code",
   "execution_count": 3,
   "id": "4baf7d45",
   "metadata": {},
   "outputs": [],
   "source": [
    "#Joseph Wanyoike Njoroge\n",
    "#Date: 22nd May 2023\n",
    "#Read the README.md to know more about this project"
   ]
  },
  {
   "cell_type": "code",
   "execution_count": 88,
   "id": "0197f974",
   "metadata": {},
   "outputs": [],
   "source": [
    "import pandas as pd\n",
    "from sklearn.preprocessing import MinMaxScaler\n",
    "from sklearn.linear_model import LogisticRegression\n",
    "from sklearn.naive_bayes import GaussianNB\n",
    "from sklearn.svm import SVC\n",
    "from sklearn.ensemble import RandomForestClassifier\n",
    "from sklearn.tree import DecisionTreeClassifier\n",
    "from sklearn.model_selection import train_test_split\n",
    "from sklearn.metrics import accuracy_score, confusion_matrix, precision_score, recall_score, f1_score\n"
   ]
  },
  {
   "cell_type": "code",
   "execution_count": 5,
   "id": "2d0f3969",
   "metadata": {},
   "outputs": [],
   "source": [
    "url = \"https://aka.ms/diabetes-data\" #This web file belongs to Microsoft.\n",
    "data = pd.read_csv(url) #The dataset is used for Creating a classification model with Azure MLdesigner"
   ]
  },
  {
   "cell_type": "code",
   "execution_count": 6,
   "id": "5d692205",
   "metadata": {},
   "outputs": [],
   "source": [
    "data.to_csv(\"Diabetes-Classification.csv\", index=False) #we save the dataset locally\n"
   ]
  },
  {
   "cell_type": "code",
   "execution_count": 7,
   "id": "c4f0ea83",
   "metadata": {},
   "outputs": [],
   "source": [
    "data2 = pd.read_csv(\"Diabetes-Classification.csv\")"
   ]
  },
  {
   "cell_type": "code",
   "execution_count": 8,
   "id": "fe179270",
   "metadata": {},
   "outputs": [
    {
     "data": {
      "text/html": [
       "<div>\n",
       "<style scoped>\n",
       "    .dataframe tbody tr th:only-of-type {\n",
       "        vertical-align: middle;\n",
       "    }\n",
       "\n",
       "    .dataframe tbody tr th {\n",
       "        vertical-align: top;\n",
       "    }\n",
       "\n",
       "    .dataframe thead th {\n",
       "        text-align: right;\n",
       "    }\n",
       "</style>\n",
       "<table border=\"1\" class=\"dataframe\">\n",
       "  <thead>\n",
       "    <tr style=\"text-align: right;\">\n",
       "      <th></th>\n",
       "      <th>PatientID</th>\n",
       "      <th>Pregnancies</th>\n",
       "      <th>PlasmaGlucose</th>\n",
       "      <th>DiastolicBloodPressure</th>\n",
       "      <th>TricepsThickness</th>\n",
       "      <th>SerumInsulin</th>\n",
       "      <th>BMI</th>\n",
       "      <th>DiabetesPedigree</th>\n",
       "      <th>Age</th>\n",
       "      <th>Diabetic</th>\n",
       "    </tr>\n",
       "  </thead>\n",
       "  <tbody>\n",
       "    <tr>\n",
       "      <th>0</th>\n",
       "      <td>1354778</td>\n",
       "      <td>0</td>\n",
       "      <td>171</td>\n",
       "      <td>80</td>\n",
       "      <td>34</td>\n",
       "      <td>23</td>\n",
       "      <td>43.509726</td>\n",
       "      <td>1.213191</td>\n",
       "      <td>21</td>\n",
       "      <td>0</td>\n",
       "    </tr>\n",
       "    <tr>\n",
       "      <th>1</th>\n",
       "      <td>1147438</td>\n",
       "      <td>8</td>\n",
       "      <td>92</td>\n",
       "      <td>93</td>\n",
       "      <td>47</td>\n",
       "      <td>36</td>\n",
       "      <td>21.240576</td>\n",
       "      <td>0.158365</td>\n",
       "      <td>23</td>\n",
       "      <td>0</td>\n",
       "    </tr>\n",
       "    <tr>\n",
       "      <th>2</th>\n",
       "      <td>1640031</td>\n",
       "      <td>7</td>\n",
       "      <td>115</td>\n",
       "      <td>47</td>\n",
       "      <td>52</td>\n",
       "      <td>35</td>\n",
       "      <td>41.511523</td>\n",
       "      <td>0.079019</td>\n",
       "      <td>23</td>\n",
       "      <td>0</td>\n",
       "    </tr>\n",
       "    <tr>\n",
       "      <th>3</th>\n",
       "      <td>1883350</td>\n",
       "      <td>9</td>\n",
       "      <td>103</td>\n",
       "      <td>78</td>\n",
       "      <td>25</td>\n",
       "      <td>304</td>\n",
       "      <td>29.582192</td>\n",
       "      <td>1.282870</td>\n",
       "      <td>43</td>\n",
       "      <td>1</td>\n",
       "    </tr>\n",
       "    <tr>\n",
       "      <th>4</th>\n",
       "      <td>1424119</td>\n",
       "      <td>1</td>\n",
       "      <td>85</td>\n",
       "      <td>59</td>\n",
       "      <td>27</td>\n",
       "      <td>35</td>\n",
       "      <td>42.604536</td>\n",
       "      <td>0.549542</td>\n",
       "      <td>22</td>\n",
       "      <td>0</td>\n",
       "    </tr>\n",
       "    <tr>\n",
       "      <th>...</th>\n",
       "      <td>...</td>\n",
       "      <td>...</td>\n",
       "      <td>...</td>\n",
       "      <td>...</td>\n",
       "      <td>...</td>\n",
       "      <td>...</td>\n",
       "      <td>...</td>\n",
       "      <td>...</td>\n",
       "      <td>...</td>\n",
       "      <td>...</td>\n",
       "    </tr>\n",
       "    <tr>\n",
       "      <th>9995</th>\n",
       "      <td>1469198</td>\n",
       "      <td>6</td>\n",
       "      <td>95</td>\n",
       "      <td>85</td>\n",
       "      <td>37</td>\n",
       "      <td>267</td>\n",
       "      <td>18.497542</td>\n",
       "      <td>0.660240</td>\n",
       "      <td>31</td>\n",
       "      <td>0</td>\n",
       "    </tr>\n",
       "    <tr>\n",
       "      <th>9996</th>\n",
       "      <td>1432736</td>\n",
       "      <td>0</td>\n",
       "      <td>55</td>\n",
       "      <td>51</td>\n",
       "      <td>7</td>\n",
       "      <td>50</td>\n",
       "      <td>21.865341</td>\n",
       "      <td>0.086589</td>\n",
       "      <td>34</td>\n",
       "      <td>0</td>\n",
       "    </tr>\n",
       "    <tr>\n",
       "      <th>9997</th>\n",
       "      <td>1410962</td>\n",
       "      <td>5</td>\n",
       "      <td>99</td>\n",
       "      <td>59</td>\n",
       "      <td>47</td>\n",
       "      <td>67</td>\n",
       "      <td>30.774018</td>\n",
       "      <td>2.301594</td>\n",
       "      <td>43</td>\n",
       "      <td>1</td>\n",
       "    </tr>\n",
       "    <tr>\n",
       "      <th>9998</th>\n",
       "      <td>1958653</td>\n",
       "      <td>0</td>\n",
       "      <td>145</td>\n",
       "      <td>67</td>\n",
       "      <td>30</td>\n",
       "      <td>21</td>\n",
       "      <td>18.811861</td>\n",
       "      <td>0.789572</td>\n",
       "      <td>26</td>\n",
       "      <td>0</td>\n",
       "    </tr>\n",
       "    <tr>\n",
       "      <th>9999</th>\n",
       "      <td>1332938</td>\n",
       "      <td>10</td>\n",
       "      <td>100</td>\n",
       "      <td>54</td>\n",
       "      <td>34</td>\n",
       "      <td>27</td>\n",
       "      <td>38.840943</td>\n",
       "      <td>0.175465</td>\n",
       "      <td>23</td>\n",
       "      <td>0</td>\n",
       "    </tr>\n",
       "  </tbody>\n",
       "</table>\n",
       "<p>10000 rows × 10 columns</p>\n",
       "</div>"
      ],
      "text/plain": [
       "      PatientID  Pregnancies  PlasmaGlucose  DiastolicBloodPressure  \\\n",
       "0       1354778            0            171                      80   \n",
       "1       1147438            8             92                      93   \n",
       "2       1640031            7            115                      47   \n",
       "3       1883350            9            103                      78   \n",
       "4       1424119            1             85                      59   \n",
       "...         ...          ...            ...                     ...   \n",
       "9995    1469198            6             95                      85   \n",
       "9996    1432736            0             55                      51   \n",
       "9997    1410962            5             99                      59   \n",
       "9998    1958653            0            145                      67   \n",
       "9999    1332938           10            100                      54   \n",
       "\n",
       "      TricepsThickness  SerumInsulin        BMI  DiabetesPedigree  Age  \\\n",
       "0                   34            23  43.509726          1.213191   21   \n",
       "1                   47            36  21.240576          0.158365   23   \n",
       "2                   52            35  41.511523          0.079019   23   \n",
       "3                   25           304  29.582192          1.282870   43   \n",
       "4                   27            35  42.604536          0.549542   22   \n",
       "...                ...           ...        ...               ...  ...   \n",
       "9995                37           267  18.497542          0.660240   31   \n",
       "9996                 7            50  21.865341          0.086589   34   \n",
       "9997                47            67  30.774018          2.301594   43   \n",
       "9998                30            21  18.811861          0.789572   26   \n",
       "9999                34            27  38.840943          0.175465   23   \n",
       "\n",
       "      Diabetic  \n",
       "0            0  \n",
       "1            0  \n",
       "2            0  \n",
       "3            1  \n",
       "4            0  \n",
       "...        ...  \n",
       "9995         0  \n",
       "9996         0  \n",
       "9997         1  \n",
       "9998         0  \n",
       "9999         0  \n",
       "\n",
       "[10000 rows x 10 columns]"
      ]
     },
     "execution_count": 8,
     "metadata": {},
     "output_type": "execute_result"
    }
   ],
   "source": [
    "data2"
   ]
  },
  {
   "cell_type": "markdown",
   "id": "17d20cde",
   "metadata": {},
   "source": [
    "# Data Preprocessing (MinMax Normalization)"
   ]
  },
  {
   "cell_type": "code",
   "execution_count": 9,
   "id": "ca965126",
   "metadata": {},
   "outputs": [],
   "source": [
    "scaler = MinMaxScaler()"
   ]
  },
  {
   "cell_type": "code",
   "execution_count": 10,
   "id": "cc88bea8",
   "metadata": {},
   "outputs": [],
   "source": [
    "columns_to_normalize = [\"Pregnancies\", \"PlasmaGlucose\", \"DiastolicBloodPressure\", \"TricepsThickness\", \"SerumInsulin\", \"BMI\", \"DiabetesPedigree\", \"Age\"]"
   ]
  },
  {
   "cell_type": "code",
   "execution_count": 11,
   "id": "b130d767",
   "metadata": {},
   "outputs": [
    {
     "data": {
      "text/plain": [
       "MinMaxScaler()"
      ]
     },
     "execution_count": 11,
     "metadata": {},
     "output_type": "execute_result"
    }
   ],
   "source": [
    "# Fit the scaler to the selected columns\n",
    "scaler.fit(data[columns_to_normalize])"
   ]
  },
  {
   "cell_type": "code",
   "execution_count": 12,
   "id": "82762ea1",
   "metadata": {},
   "outputs": [],
   "source": [
    "# Transform the selected columns by applying the scaler\n",
    "data[columns_to_normalize] = scaler.transform(data[columns_to_normalize])\n"
   ]
  },
  {
   "cell_type": "markdown",
   "id": "41c79819",
   "metadata": {},
   "source": []
  },
  {
   "cell_type": "markdown",
   "id": "af57228e",
   "metadata": {},
   "source": [
    "# split the data"
   ]
  },
  {
   "cell_type": "code",
   "execution_count": 13,
   "id": "ebd70c48",
   "metadata": {},
   "outputs": [],
   "source": [
    "#Declare the feature and target variables\n",
    "X = data[[\"Pregnancies\", \"PlasmaGlucose\", \"DiastolicBloodPressure\", \"TricepsThickness\", \"SerumInsulin\", \"BMI\", \"DiabetesPedigree\", \"Age\"]]\n",
    "y = data[[\"Diabetic\"]]"
   ]
  },
  {
   "cell_type": "code",
   "execution_count": 14,
   "id": "5a252b45",
   "metadata": {},
   "outputs": [],
   "source": [
    "#Split the data\n",
    "X_train, X_test, y_train, y_test = train_test_split(X, y, test_size = 0.3, random_state = 42)"
   ]
  },
  {
   "cell_type": "code",
   "execution_count": null,
   "id": "4a20a495",
   "metadata": {},
   "outputs": [],
   "source": []
  },
  {
   "cell_type": "markdown",
   "id": "83d30eb2",
   "metadata": {},
   "source": [
    "# Logistic regression"
   ]
  },
  {
   "cell_type": "code",
   "execution_count": null,
   "id": "77635dd1",
   "metadata": {},
   "outputs": [],
   "source": []
  },
  {
   "cell_type": "code",
   "execution_count": null,
   "id": "76578e55",
   "metadata": {},
   "outputs": [],
   "source": [
    "#Create an instance of the model\n",
    "\n"
   ]
  },
  {
   "cell_type": "code",
   "execution_count": 25,
   "id": "7b45950e",
   "metadata": {},
   "outputs": [],
   "source": []
  },
  {
   "cell_type": "markdown",
   "id": "172906f9",
   "metadata": {},
   "source": [
    "# Train the model"
   ]
  },
  {
   "cell_type": "code",
   "execution_count": 55,
   "id": "ebe1d819",
   "metadata": {},
   "outputs": [],
   "source": [
    "#create an instance of the model\n",
    "#fit the model\n",
    "#predict X_test\n",
    "#display the predicted values"
   ]
  },
  {
   "cell_type": "code",
   "execution_count": 101,
   "id": "56cefed6",
   "metadata": {},
   "outputs": [
    {
     "name": "stderr",
     "output_type": "stream",
     "text": [
      "C:\\Users\\Joseph\\anaconda3\\lib\\site-packages\\sklearn\\utils\\validation.py:993: DataConversionWarning: A column-vector y was passed when a 1d array was expected. Please change the shape of y to (n_samples, ), for example using ravel().\n",
      "  y = column_or_1d(y, warn=True)\n"
     ]
    },
    {
     "data": {
      "text/plain": [
       "array([0, 1, 0, ..., 0, 0, 1], dtype=int64)"
      ]
     },
     "execution_count": 101,
     "metadata": {},
     "output_type": "execute_result"
    }
   ],
   "source": [
    "logisticregression1 = LogisticRegression()\n",
    "logisticregression1.fit(X_train, y_train)\n",
    "y_pred_lr = logisticregression1.predict(X_test)\n",
    "y_pred_lr"
   ]
  },
  {
   "cell_type": "code",
   "execution_count": 30,
   "id": "ab24db49",
   "metadata": {},
   "outputs": [],
   "source": [
    "\n"
   ]
  },
  {
   "cell_type": "code",
   "execution_count": null,
   "id": "5e1e5aac",
   "metadata": {},
   "outputs": [],
   "source": []
  },
  {
   "cell_type": "code",
   "execution_count": 102,
   "id": "f87ffa7a",
   "metadata": {},
   "outputs": [],
   "source": [
    "accuracy_logreg = accuracy_score(y_test, y_pred_lr)\n",
    "confusion_matrix_logreg = confusion_matrix(y_test, y_pred_lr)\n",
    "precision_logreg = precision_score(y_test, y_pred_lr)\n",
    "recall_logreg = recall_score(y_test, y_pred_lr)\n",
    "f1score_logreg = f1_score(y_test, y_pred_lr)"
   ]
  },
  {
   "cell_type": "code",
   "execution_count": 59,
   "id": "df086aa5",
   "metadata": {},
   "outputs": [
    {
     "name": "stdout",
     "output_type": "stream",
     "text": [
      "accuracy_logreg 0.7946666666666666\n",
      "confusion_matrix_logreg [[1816  221]\n",
      " [ 395  568]]\n",
      "precision_logreg 0.7198986058301647\n",
      "recall_logreg 0.5898234683281413\n",
      "f1score_logreg 0.6484018264840183\n"
     ]
    }
   ],
   "source": [
    "print(\"accuracy_logreg\",accuracy_logreg)\n",
    "print(\"confusion_matrix_logreg\", confusion_matrix_logreg)\n",
    "print(\"precision_logreg\", precision_logreg)\n",
    "print(\"recall_logreg\", recall_logreg)\n",
    "print(\"f1score_logreg\", f1score_logreg)"
   ]
  },
  {
   "cell_type": "code",
   "execution_count": 51,
   "id": "674894ef",
   "metadata": {},
   "outputs": [],
   "source": [
    "\n"
   ]
  },
  {
   "cell_type": "code",
   "execution_count": null,
   "id": "22a7ccd5",
   "metadata": {},
   "outputs": [],
   "source": []
  },
  {
   "cell_type": "code",
   "execution_count": 36,
   "id": "e876955a",
   "metadata": {},
   "outputs": [],
   "source": []
  },
  {
   "cell_type": "code",
   "execution_count": null,
   "id": "fcf907a8",
   "metadata": {},
   "outputs": [],
   "source": []
  },
  {
   "cell_type": "code",
   "execution_count": 47,
   "id": "742e08ce",
   "metadata": {},
   "outputs": [],
   "source": []
  },
  {
   "cell_type": "code",
   "execution_count": null,
   "id": "d1b28510",
   "metadata": {},
   "outputs": [],
   "source": []
  },
  {
   "cell_type": "code",
   "execution_count": 49,
   "id": "48508777",
   "metadata": {},
   "outputs": [],
   "source": []
  },
  {
   "cell_type": "code",
   "execution_count": null,
   "id": "b032626d",
   "metadata": {},
   "outputs": [],
   "source": []
  },
  {
   "cell_type": "markdown",
   "id": "22c576b4",
   "metadata": {},
   "source": [
    "# Naive Bayes"
   ]
  },
  {
   "cell_type": "code",
   "execution_count": null,
   "id": "90b03534",
   "metadata": {},
   "outputs": [],
   "source": [
    "#create an instance of the model\n",
    "#fit the model\n",
    "#predict X_test\n",
    "#display the predicted values"
   ]
  },
  {
   "cell_type": "code",
   "execution_count": 98,
   "id": "861ae043",
   "metadata": {},
   "outputs": [
    {
     "name": "stderr",
     "output_type": "stream",
     "text": [
      "C:\\Users\\Joseph\\anaconda3\\lib\\site-packages\\sklearn\\utils\\validation.py:993: DataConversionWarning: A column-vector y was passed when a 1d array was expected. Please change the shape of y to (n_samples, ), for example using ravel().\n",
      "  y = column_or_1d(y, warn=True)\n"
     ]
    },
    {
     "data": {
      "text/plain": [
       "array([0, 1, 0, ..., 0, 0, 1], dtype=int64)"
      ]
     },
     "execution_count": 98,
     "metadata": {},
     "output_type": "execute_result"
    }
   ],
   "source": [
    "naivebayesclassifier = GaussianNB()\n",
    "naivebayesclassifier.fit(X_train, y_train)\n",
    "y_pred_nbc = naivebayesclassifier.predict(X_test)\n",
    "y_pred_nbc"
   ]
  },
  {
   "cell_type": "code",
   "execution_count": 45,
   "id": "5c96009b",
   "metadata": {},
   "outputs": [
    {
     "name": "stderr",
     "output_type": "stream",
     "text": [
      "C:\\Users\\Joseph\\anaconda3\\lib\\site-packages\\sklearn\\utils\\validation.py:993: DataConversionWarning: A column-vector y was passed when a 1d array was expected. Please change the shape of y to (n_samples, ), for example using ravel().\n",
      "  y = column_or_1d(y, warn=True)\n"
     ]
    },
    {
     "data": {
      "text/plain": [
       "GaussianNB()"
      ]
     },
     "execution_count": 45,
     "metadata": {},
     "output_type": "execute_result"
    }
   ],
   "source": []
  },
  {
   "cell_type": "code",
   "execution_count": 61,
   "id": "f5e7e895",
   "metadata": {},
   "outputs": [],
   "source": [
    "#test accuracy"
   ]
  },
  {
   "cell_type": "code",
   "execution_count": 99,
   "id": "a58f41af",
   "metadata": {},
   "outputs": [],
   "source": [
    "accuracy_naivebayesclassifier = accuracy_score(y_test, y_pred_nbc)\n",
    "confusion_matrix_naivebayesclassifier = confusion_matrix(y_test, y_pred_nbc)\n",
    "precision_naivebayesclassifier = precision_score(y_test, y_pred_nbc)\n",
    "recall_naivebayesclassifier = recall_score(y_test, y_pred_nbc)\n",
    "f1score_naivebayesclassifier = f1_score(y_test, y_pred_nbc)"
   ]
  },
  {
   "cell_type": "code",
   "execution_count": 100,
   "id": "9e9018d6",
   "metadata": {},
   "outputs": [
    {
     "name": "stdout",
     "output_type": "stream",
     "text": [
      "accuracy_naivebayesclassifier 0.7923333333333333\n",
      "confusion_matrix_naivebayesclassifier [[1804  233]\n",
      " [ 390  573]]\n",
      "precision_naivebayesclassifier 0.7109181141439206\n",
      "recall_naivebayesclassifier 0.5950155763239875\n",
      "f1score_naivebayesclassifier 0.647823629169022\n"
     ]
    }
   ],
   "source": [
    "print(\"accuracy_naivebayesclassifier\",accuracy_naivebayesclassifier)\n",
    "print(\"confusion_matrix_naivebayesclassifier\", confusion_matrix_naivebayesclassifier)\n",
    "print(\"precision_naivebayesclassifier\", precision_naivebayesclassifier)\n",
    "print(\"recall_naivebayesclassifier\", recall_naivebayesclassifier)\n",
    "print(\"f1score_naivebayesclassifier\", f1score_naivebayesclassifier)"
   ]
  },
  {
   "cell_type": "markdown",
   "id": "96f4786e",
   "metadata": {},
   "source": [
    "# Support vector machine"
   ]
  },
  {
   "cell_type": "code",
   "execution_count": 70,
   "id": "22d296e7",
   "metadata": {},
   "outputs": [],
   "source": [
    "#create an instance of the model\n",
    "#fit the model\n",
    "#predict X_test\n",
    "#display the predicted values"
   ]
  },
  {
   "cell_type": "code",
   "execution_count": 95,
   "id": "24454ee6",
   "metadata": {},
   "outputs": [
    {
     "name": "stderr",
     "output_type": "stream",
     "text": [
      "C:\\Users\\Joseph\\anaconda3\\lib\\site-packages\\sklearn\\utils\\validation.py:993: DataConversionWarning: A column-vector y was passed when a 1d array was expected. Please change the shape of y to (n_samples, ), for example using ravel().\n",
      "  y = column_or_1d(y, warn=True)\n"
     ]
    },
    {
     "data": {
      "text/plain": [
       "array([0, 1, 0, ..., 0, 0, 1], dtype=int64)"
      ]
     },
     "execution_count": 95,
     "metadata": {},
     "output_type": "execute_result"
    }
   ],
   "source": [
    "svm = SVC(kernel =\"linear\")\n",
    "svm.fit(X_train, y_train)\n",
    "y_pred_svm = svm.predict(X_test)\n",
    "y_pred_svm"
   ]
  },
  {
   "cell_type": "code",
   "execution_count": 96,
   "id": "1efad424",
   "metadata": {},
   "outputs": [],
   "source": [
    "accuracy_svm = accuracy_score(y_test, y_pred_svm)\n",
    "confusion_svm = confusion_matrix(y_test, y_pred_svm)\n",
    "precision_svm = precision_score(y_test, y_pred_svm)\n",
    "recall_svm= recall_score(y_test, y_pred_svm)\n",
    "f1score_svm = f1_score(y_test, y_pred_svm)"
   ]
  },
  {
   "cell_type": "code",
   "execution_count": 97,
   "id": "a94c48c2",
   "metadata": {},
   "outputs": [
    {
     "name": "stdout",
     "output_type": "stream",
     "text": [
      "accuracy_svm 0.7976666666666666\n",
      "confusion_matrix_svm [[1824  213]\n",
      " [ 394  569]]\n",
      "precision_svm 0.7276214833759591\n",
      "recall_svm 0.5908618899273105\n",
      "f1score_svm 0.6521489971346704\n"
     ]
    }
   ],
   "source": [
    "print(\"accuracy_svm\",accuracy_svm)\n",
    "print(\"confusion_matrix_svm\", confusion_matrix_svm)\n",
    "print(\"precision_svm\", precision_svm)\n",
    "print(\"recall_svm\", recall_svm)\n",
    "print(\"f1score_svm\", f1score_svm)"
   ]
  },
  {
   "cell_type": "markdown",
   "id": "43f25e92",
   "metadata": {},
   "source": [
    "# Random Forest"
   ]
  },
  {
   "cell_type": "code",
   "execution_count": null,
   "id": "c00b652c",
   "metadata": {},
   "outputs": [],
   "source": [
    "#create an instance of the model\n",
    "#fit the model\n",
    "#predict X_test\n",
    "#display the predicted values"
   ]
  },
  {
   "cell_type": "code",
   "execution_count": 81,
   "id": "2c6eb35e",
   "metadata": {},
   "outputs": [
    {
     "name": "stderr",
     "output_type": "stream",
     "text": [
      "C:\\Users\\Joseph\\AppData\\Local\\Temp\\ipykernel_3092\\71404115.py:2: DataConversionWarning: A column-vector y was passed when a 1d array was expected. Please change the shape of y to (n_samples,), for example using ravel().\n",
      "  randomforestclassifier.fit(X_train, y_train)\n"
     ]
    },
    {
     "data": {
      "text/plain": [
       "array([0, 1, 0, ..., 0, 0, 0], dtype=int64)"
      ]
     },
     "execution_count": 81,
     "metadata": {},
     "output_type": "execute_result"
    }
   ],
   "source": [
    "randomforestclassifier = RandomForestClassifier(n_estimators = 100)\n",
    "randomforestclassifier.fit(X_train, y_train)\n",
    "y_pred_rfc = randomforestclassifier.predict(X_test)\n",
    "y_pred_rfc"
   ]
  },
  {
   "cell_type": "code",
   "execution_count": 82,
   "id": "cd9e3a94",
   "metadata": {},
   "outputs": [],
   "source": [
    "accuracy_randomforestclassifier = accuracy_score(y_test, y_pred_rfc)\n",
    "confusion_randomforestclassifier = confusion_matrix(y_test, y_pred_rfc)\n",
    "precision_randomforestclassifier = precision_score(y_test, y_pred_rfc)\n",
    "recall_randomforestclassifier= recall_score(y_test, y_pred_rfc)\n",
    "f1score_randomforestclassifier = f1_score(y_test, y_pred_rfc)"
   ]
  },
  {
   "cell_type": "code",
   "execution_count": 86,
   "id": "339ec65a",
   "metadata": {},
   "outputs": [
    {
     "name": "stdout",
     "output_type": "stream",
     "text": [
      "accuracy_randomforestclassifier 0.933\n",
      "confusion_randomforestclassifier [[1957   80]\n",
      " [ 121  842]]\n",
      "precision_randomforestclassifier 0.913232104121475\n",
      "recall_randomforestclassifier 0.8743509865005192\n",
      "f1score_randomforestclassifier 0.893368700265252\n"
     ]
    }
   ],
   "source": [
    "print(\"accuracy_randomforestclassifier\",accuracy_randomforestclassifier)\n",
    "print(\"confusion_randomforestclassifier\", confusion_randomforestclassifier)\n",
    "print(\"precision_randomforestclassifier\", precision_randomforestclassifier)\n",
    "print(\"recall_randomforestclassifier\", recall_randomforestclassifier)\n",
    "print(\"f1score_randomforestclassifier\", f1score_randomforestclassifier)"
   ]
  },
  {
   "cell_type": "markdown",
   "id": "d50d693b",
   "metadata": {},
   "source": [
    "# Decision Trees"
   ]
  },
  {
   "cell_type": "code",
   "execution_count": null,
   "id": "07744f04",
   "metadata": {},
   "outputs": [],
   "source": [
    "#create an instance of the model\n",
    "#fit the model\n",
    "#predict X_test\n",
    "#display the predicted values"
   ]
  },
  {
   "cell_type": "code",
   "execution_count": 90,
   "id": "49db510e",
   "metadata": {},
   "outputs": [
    {
     "data": {
      "text/plain": [
       "array([1, 1, 0, ..., 0, 0, 0], dtype=int64)"
      ]
     },
     "execution_count": 90,
     "metadata": {},
     "output_type": "execute_result"
    }
   ],
   "source": [
    "decisiontreeeclassifier = DecisionTreeClassifier()\n",
    "decisiontreeeclassifier.fit(X_train, y_train)\n",
    "y_pred_dtc = decisiontreeeclassifier.predict(X_test)\n",
    "y_pred_dtc"
   ]
  },
  {
   "cell_type": "code",
   "execution_count": 92,
   "id": "a0083fa4",
   "metadata": {},
   "outputs": [],
   "source": [
    "accuracy_decisiontreeeclassifier = accuracy_score(y_test, y_pred_dtc)\n",
    "confusion_decisiontreeeclassifier = confusion_matrix(y_test, y_pred_dtc)\n",
    "precision_decisiontreeeclassifier = precision_score(y_test, y_pred_dtc)\n",
    "recall_decisiontreeeclassifier= recall_score(y_test, y_pred_dtc)\n",
    "f1score_decisiontreeeclassifier = f1_score(y_test, y_pred_dtc)"
   ]
  },
  {
   "cell_type": "code",
   "execution_count": 93,
   "id": "36eae8fd",
   "metadata": {},
   "outputs": [
    {
     "name": "stdout",
     "output_type": "stream",
     "text": [
      "accuracy_decisiontreeeclassifier 0.8973333333333333\n",
      "confusion_decisiontreeeclassifier [[1878  159]\n",
      " [ 149  814]]\n",
      "precision_decisiontreeeclassifier 0.8365878725590956\n",
      "recall_decisiontreeeclassifier 0.8452751817237798\n",
      "f1score_decisiontreeeclassifier 0.8409090909090909\n"
     ]
    }
   ],
   "source": [
    "print(\"accuracy_decisiontreeeclassifier\",accuracy_decisiontreeeclassifier)\n",
    "print(\"confusion_decisiontreeeclassifier\", confusion_decisiontreeeclassifier)\n",
    "print(\"precision_decisiontreeeclassifier\", precision_decisiontreeeclassifier)\n",
    "print(\"recall_decisiontreeeclassifier\", recall_decisiontreeeclassifier)\n",
    "print(\"f1score_decisiontreeeclassifier\", f1score_decisiontreeeclassifier)"
   ]
  },
  {
   "cell_type": "code",
   "execution_count": null,
   "id": "0fb3c1d6",
   "metadata": {},
   "outputs": [],
   "source": []
  }
 ],
 "metadata": {
  "kernelspec": {
   "display_name": "Python 3 (ipykernel)",
   "language": "python",
   "name": "python3"
  },
  "language_info": {
   "codemirror_mode": {
    "name": "ipython",
    "version": 3
   },
   "file_extension": ".py",
   "mimetype": "text/x-python",
   "name": "python",
   "nbconvert_exporter": "python",
   "pygments_lexer": "ipython3",
   "version": "3.9.13"
  }
 },
 "nbformat": 4,
 "nbformat_minor": 5
}
