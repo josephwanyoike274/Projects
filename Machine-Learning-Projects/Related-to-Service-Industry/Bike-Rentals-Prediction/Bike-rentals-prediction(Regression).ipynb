{
 "cells": [
  {
   "cell_type": "code",
   "execution_count": 2,
   "id": "f95e468e",
   "metadata": {},
   "outputs": [],
   "source": [
    "import pandas as pd\n",
    "import tensorflow"
   ]
  },
  {
   "cell_type": "code",
   "execution_count": 3,
   "id": "a4901e67",
   "metadata": {},
   "outputs": [],
   "source": [
    "url =\"https://aka.ms/bike-rentals\"\n",
    "data = pd.read_csv(url)"
   ]
  },
  {
   "cell_type": "code",
   "execution_count": 4,
   "id": "594d8e9f",
   "metadata": {},
   "outputs": [],
   "source": [
    "data.to_csv(\"Bike-rentals.csv\", index=False)"
   ]
  },
  {
   "cell_type": "code",
   "execution_count": 5,
   "id": "b842cad7",
   "metadata": {},
   "outputs": [],
   "source": [
    "data2 = pd.read_csv(\"Bike-rentals.csv\")"
   ]
  },
  {
   "cell_type": "code",
   "execution_count": null,
   "id": "177a3b17",
   "metadata": {},
   "outputs": [],
   "source": []
  },
  {
   "cell_type": "code",
   "execution_count": null,
   "id": "d0475c6f",
   "metadata": {},
   "outputs": [],
   "source": []
  }
 ],
 "metadata": {
  "kernelspec": {
   "display_name": "Python 3 (ipykernel)",
   "language": "python",
   "name": "python3"
  },
  "language_info": {
   "codemirror_mode": {
    "name": "ipython",
    "version": 3
   },
   "file_extension": ".py",
   "mimetype": "text/x-python",
   "name": "python",
   "nbconvert_exporter": "python",
   "pygments_lexer": "ipython3",
   "version": "3.8.5"
  }
 },
 "nbformat": 4,
 "nbformat_minor": 5
}
