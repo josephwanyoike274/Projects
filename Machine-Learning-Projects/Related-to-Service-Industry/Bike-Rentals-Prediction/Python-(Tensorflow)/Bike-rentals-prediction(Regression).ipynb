{
 "cells": [
  {
   "cell_type": "code",
   "execution_count": 18,
   "id": "7531aabf",
   "metadata": {},
   "outputs": [],
   "source": [
    "import pandas as pd\n",
    "import tensorflow as tf\n",
    "from sklearn.model_selection import train_test_split"
   ]
  },
  {
   "cell_type": "code",
   "execution_count": 3,
   "id": "a4901e67",
   "metadata": {},
   "outputs": [],
   "source": [
    "url =\"https://aka.ms/bike-rentals\"\n",
    "data = pd.read_csv(url)"
   ]
  },
  {
   "cell_type": "code",
   "execution_count": 4,
   "id": "6ebc5aa2",
   "metadata": {},
   "outputs": [],
   "source": [
    "data.to_csv(\"Bike-rentals.csv\", index=False)"
   ]
  },
  {
   "cell_type": "code",
   "execution_count": 5,
   "id": "2a706438",
   "metadata": {},
   "outputs": [],
   "source": [
    "data2 = pd.read_csv(\"Bike-rentals.csv\")"
   ]
  },
  {
   "cell_type": "code",
   "execution_count": 12,
   "id": "77926f07",
   "metadata": {},
   "outputs": [],
   "source": [
    "columns_to_drop = [\"rentals\"]\n",
    "X = data.drop(columns_to_drop, axis = 1)\n",
    "y = data[[\"rentals\"]]"
   ]
  },
  {
   "cell_type": "code",
   "execution_count": 16,
   "id": "06416ed8",
   "metadata": {},
   "outputs": [],
   "source": [
    "X_train, X_test, y_train, y_test = train_test_split(X, y, test_size = 0.3, random_state = 42)\n"
   ]
  },
  {
   "cell_type": "code",
   "execution_count": 21,
   "id": "56f0e7c2",
   "metadata": {},
   "outputs": [],
   "source": [
    "# Define the model architecture\n",
    "model = tf.keras.Sequential([\n",
    "    tf.keras.layers.Dense(32, activation='relu', input_shape=(12,)),\n",
    "    tf.keras.layers.Dense(16, activation='relu'),\n",
    "    tf.keras.layers.Dense(1)  # Output layer with a single node for regression\n",
    "])"
   ]
  },
  {
   "cell_type": "code",
   "execution_count": 22,
   "id": "16f15324",
   "metadata": {},
   "outputs": [],
   "source": [
    "# Compile the model\n",
    "model.compile(optimizer='adam', loss='mean_squared_error')"
   ]
  },
  {
   "cell_type": "code",
   "execution_count": 23,
   "id": "68e80506",
   "metadata": {},
   "outputs": [
    {
     "name": "stdout",
     "output_type": "stream",
     "text": [
      "Model: \"sequential\"\n",
      "_________________________________________________________________\n",
      " Layer (type)                Output Shape              Param #   \n",
      "=================================================================\n",
      " dense (Dense)               (None, 32)                416       \n",
      "                                                                 \n",
      " dense_1 (Dense)             (None, 16)                528       \n",
      "                                                                 \n",
      " dense_2 (Dense)             (None, 1)                 17        \n",
      "                                                                 \n",
      "=================================================================\n",
      "Total params: 961\n",
      "Trainable params: 961\n",
      "Non-trainable params: 0\n",
      "_________________________________________________________________\n"
     ]
    }
   ],
   "source": [
    "# Print the model summary\n",
    "model.summary()"
   ]
  },
  {
   "cell_type": "code",
   "execution_count": 24,
   "id": "2b828525",
   "metadata": {},
   "outputs": [
    {
     "name": "stdout",
     "output_type": "stream",
     "text": [
      "Epoch 1/10\n",
      "16/16 [==============================] - 5s 9ms/step - loss: 2049275.7500\n",
      "Epoch 2/10\n",
      "16/16 [==============================] - 0s 2ms/step - loss: 1273154.5000\n",
      "Epoch 3/10\n",
      "16/16 [==============================] - 0s 2ms/step - loss: 836978.0625\n",
      "Epoch 4/10\n",
      "16/16 [==============================] - 0s 1ms/step - loss: 606450.8125\n",
      "Epoch 5/10\n",
      "16/16 [==============================] - 0s 2ms/step - loss: 519667.4375\n",
      "Epoch 6/10\n",
      "16/16 [==============================] - 0s 2ms/step - loss: 497470.0938\n",
      "Epoch 7/10\n",
      "16/16 [==============================] - 0s 2ms/step - loss: 495458.7500\n",
      "Epoch 8/10\n",
      "16/16 [==============================] - 0s 2ms/step - loss: 495873.7812\n",
      "Epoch 9/10\n",
      "16/16 [==============================] - 0s 1ms/step - loss: 495890.5312\n",
      "Epoch 10/10\n",
      "16/16 [==============================] - 0s 1ms/step - loss: 495998.6875\n"
     ]
    },
    {
     "data": {
      "text/plain": [
       "<keras.callbacks.History at 0xca57de0b80>"
      ]
     },
     "execution_count": 24,
     "metadata": {},
     "output_type": "execute_result"
    }
   ],
   "source": [
    "# Train the model on your training data\n",
    "model.fit(X_train, y_train, epochs=10, batch_size=32)  \n",
    "# Adjust the number of epochs and batch size as needed\n"
   ]
  },
  {
   "cell_type": "code",
   "execution_count": 25,
   "id": "accb942e",
   "metadata": {},
   "outputs": [
    {
     "name": "stdout",
     "output_type": "stream",
     "text": [
      "7/7 [==============================] - 0s 3ms/step - loss: 419335.5000\n",
      "Mean Squared Error: 419335.5\n"
     ]
    }
   ],
   "source": [
    "# Evaluate the model on your testing data (optional)\n",
    "loss = model.evaluate(X_test, y_test)  # Replace X_test and y_test with your testing data\n",
    "\n",
    "print(f\"Mean Squared Error: {loss}\")\n"
   ]
  },
  {
   "cell_type": "code",
   "execution_count": null,
   "id": "798e8fbc",
   "metadata": {},
   "outputs": [],
   "source": [
    "# Make predictions on new data\n",
    "new_data = pd.DataFrame([[value1, value2, ...]], columns=['feature1', 'feature2', ...])  # Replace with your new data\n",
    "predictions = model.predict(new_data)\n",
    "\n",
    "# Print the predictions\n",
    "print(predictions)\n"
   ]
  }
 ],
 "metadata": {
  "kernelspec": {
   "display_name": "Python 3 (ipykernel)",
   "language": "python",
   "name": "python3"
  },
  "language_info": {
   "codemirror_mode": {
    "name": "ipython",
    "version": 3
   },
   "file_extension": ".py",
   "mimetype": "text/x-python",
   "name": "python",
   "nbconvert_exporter": "python",
   "pygments_lexer": "ipython3",
   "version": "3.8.5"
  }
 },
 "nbformat": 4,
 "nbformat_minor": 5
}
